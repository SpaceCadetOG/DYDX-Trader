{
  "cells": [
    {
      "cell_type": "code",
      "execution_count": 96,
      "metadata": {
        "colab": {
          "base_uri": "https://localhost:8080/"
        },
        "id": "_ESsoz7N-DdD",
        "outputId": "dd5733c1-7ea4-4c4e-e230-117c9004897b"
      },
      "outputs": [
        {
          "name": "stdout",
          "output_type": "stream",
          "text": [
            "Defaulting to user installation because normal site-packages is not writeable\n",
            "Requirement already satisfied: dydx-v3-python==1.9.1 in /Users/victorogbebor/Library/Python/3.9/lib/python/site-packages (1.9.1)\n",
            "Requirement already satisfied: ecdsa==0.16.0 in /Users/victorogbebor/Library/Python/3.9/lib/python/site-packages (from dydx-v3-python==1.9.1) (0.16.0)\n",
            "Requirement already satisfied: mpmath==1.0.0 in /Users/victorogbebor/Library/Python/3.9/lib/python/site-packages (from dydx-v3-python==1.9.1) (1.0.0)\n",
            "Requirement already satisfied: web3<6.0.0,>=5.0.0 in /Users/victorogbebor/Library/Python/3.9/lib/python/site-packages (from dydx-v3-python==1.9.1) (5.31.4)\n",
            "Requirement already satisfied: eth-account<0.6.0,>=0.4.0 in /Users/victorogbebor/Library/Python/3.9/lib/python/site-packages (from dydx-v3-python==1.9.1) (0.5.9)\n",
            "Requirement already satisfied: tox==3.13.2 in /Users/victorogbebor/Library/Python/3.9/lib/python/site-packages (from dydx-v3-python==1.9.1) (3.13.2)\n",
            "Requirement already satisfied: eth-keys in /Users/victorogbebor/Library/Python/3.9/lib/python/site-packages (from dydx-v3-python==1.9.1) (0.3.4)\n",
            "Requirement already satisfied: setuptools==50.3.2 in /Users/victorogbebor/Library/Python/3.9/lib/python/site-packages (from dydx-v3-python==1.9.1) (50.3.2)\n",
            "Requirement already satisfied: requests-mock==1.6.0 in /Users/victorogbebor/Library/Python/3.9/lib/python/site-packages (from dydx-v3-python==1.9.1) (1.6.0)\n",
            "Requirement already satisfied: cytoolz==0.11.2 in /Users/victorogbebor/Library/Python/3.9/lib/python/site-packages (from dydx-v3-python==1.9.1) (0.11.2)\n",
            "Requirement already satisfied: dateparser==1.0.0 in /Users/victorogbebor/Library/Python/3.9/lib/python/site-packages (from dydx-v3-python==1.9.1) (1.0.0)\n",
            "Requirement already satisfied: pytest<5.0.0,>=4.4.0 in /Users/victorogbebor/Library/Python/3.9/lib/python/site-packages (from dydx-v3-python==1.9.1) (4.6.11)\n",
            "Requirement already satisfied: requests<3.0.0,>=2.22.0 in /Users/victorogbebor/Library/Python/3.9/lib/python/site-packages (from dydx-v3-python==1.9.1) (2.30.0)\n",
            "Requirement already satisfied: aiohttp==3.8.1 in /Users/victorogbebor/Library/Python/3.9/lib/python/site-packages (from dydx-v3-python==1.9.1) (3.8.1)\n",
            "Requirement already satisfied: sympy==1.6 in /Users/victorogbebor/Library/Python/3.9/lib/python/site-packages (from dydx-v3-python==1.9.1) (1.6)\n",
            "Requirement already satisfied: async-timeout<5.0,>=4.0.0a3 in /Users/victorogbebor/Library/Python/3.9/lib/python/site-packages (from aiohttp==3.8.1->dydx-v3-python==1.9.1) (4.0.2)\n",
            "Requirement already satisfied: aiosignal>=1.1.2 in /Users/victorogbebor/Library/Python/3.9/lib/python/site-packages (from aiohttp==3.8.1->dydx-v3-python==1.9.1) (1.3.1)\n",
            "Requirement already satisfied: attrs>=17.3.0 in /Users/victorogbebor/Library/Python/3.9/lib/python/site-packages (from aiohttp==3.8.1->dydx-v3-python==1.9.1) (23.1.0)\n",
            "Requirement already satisfied: charset-normalizer<3.0,>=2.0 in /Users/victorogbebor/Library/Python/3.9/lib/python/site-packages (from aiohttp==3.8.1->dydx-v3-python==1.9.1) (2.1.1)\n",
            "Requirement already satisfied: yarl<2.0,>=1.0 in /Users/victorogbebor/Library/Python/3.9/lib/python/site-packages (from aiohttp==3.8.1->dydx-v3-python==1.9.1) (1.9.2)\n",
            "Requirement already satisfied: frozenlist>=1.1.1 in /Users/victorogbebor/Library/Python/3.9/lib/python/site-packages (from aiohttp==3.8.1->dydx-v3-python==1.9.1) (1.3.3)\n",
            "Requirement already satisfied: multidict<7.0,>=4.5 in /Users/victorogbebor/Library/Python/3.9/lib/python/site-packages (from aiohttp==3.8.1->dydx-v3-python==1.9.1) (6.0.4)\n",
            "Requirement already satisfied: toolz>=0.8.0 in /Users/victorogbebor/Library/Python/3.9/lib/python/site-packages (from cytoolz==0.11.2->dydx-v3-python==1.9.1) (0.12.0)\n",
            "Requirement already satisfied: python-dateutil in /Users/victorogbebor/Library/Python/3.9/lib/python/site-packages (from dateparser==1.0.0->dydx-v3-python==1.9.1) (2.8.2)\n",
            "Requirement already satisfied: pytz in /Users/victorogbebor/Library/Python/3.9/lib/python/site-packages (from dateparser==1.0.0->dydx-v3-python==1.9.1) (2023.3)\n",
            "Requirement already satisfied: tzlocal in /Users/victorogbebor/Library/Python/3.9/lib/python/site-packages (from dateparser==1.0.0->dydx-v3-python==1.9.1) (4.3)\n",
            "Requirement already satisfied: regex!=2019.02.19 in /Users/victorogbebor/Library/Python/3.9/lib/python/site-packages (from dateparser==1.0.0->dydx-v3-python==1.9.1) (2023.5.5)\n",
            "Requirement already satisfied: six>=1.9.0 in /Users/victorogbebor/Library/Python/3.9/lib/python/site-packages (from ecdsa==0.16.0->dydx-v3-python==1.9.1) (1.16.0)\n",
            "Requirement already satisfied: packaging>=14 in /Users/victorogbebor/Library/Python/3.9/lib/python/site-packages (from tox==3.13.2->dydx-v3-python==1.9.1) (21.3)\n",
            "Requirement already satisfied: pluggy<1,>=0.12.0 in /Users/victorogbebor/Library/Python/3.9/lib/python/site-packages (from tox==3.13.2->dydx-v3-python==1.9.1) (0.13.1)\n",
            "Requirement already satisfied: toml>=0.9.4 in /Users/victorogbebor/Library/Python/3.9/lib/python/site-packages (from tox==3.13.2->dydx-v3-python==1.9.1) (0.10.2)\n",
            "Requirement already satisfied: filelock<4,>=3.0.0 in /Users/victorogbebor/Library/Python/3.9/lib/python/site-packages (from tox==3.13.2->dydx-v3-python==1.9.1) (3.12.0)\n",
            "Requirement already satisfied: virtualenv>=14.0.0 in /Users/victorogbebor/Library/Python/3.9/lib/python/site-packages (from tox==3.13.2->dydx-v3-python==1.9.1) (20.23.0)\n",
            "Requirement already satisfied: py<2,>=1.4.17 in /Users/victorogbebor/Library/Python/3.9/lib/python/site-packages (from tox==3.13.2->dydx-v3-python==1.9.1) (1.11.0)\n",
            "Requirement already satisfied: importlib-metadata<1,>=0.12 in /Users/victorogbebor/Library/Python/3.9/lib/python/site-packages (from tox==3.13.2->dydx-v3-python==1.9.1) (0.23)\n",
            "Requirement already satisfied: eth-keyfile<0.6.0,>=0.5.0 in /Users/victorogbebor/Library/Python/3.9/lib/python/site-packages (from eth-account<0.6.0,>=0.4.0->dydx-v3-python==1.9.1) (0.5.1)\n",
            "Requirement already satisfied: bitarray<3,>=1.2.1 in /Users/victorogbebor/Library/Python/3.9/lib/python/site-packages (from eth-account<0.6.0,>=0.4.0->dydx-v3-python==1.9.1) (2.7.3)\n",
            "Requirement already satisfied: hexbytes<1,>=0.1.0 in /Users/victorogbebor/Library/Python/3.9/lib/python/site-packages (from eth-account<0.6.0,>=0.4.0->dydx-v3-python==1.9.1) (0.3.0)\n",
            "Requirement already satisfied: eth-abi<3,>=2.0.0b7 in /Users/victorogbebor/Library/Python/3.9/lib/python/site-packages (from eth-account<0.6.0,>=0.4.0->dydx-v3-python==1.9.1) (2.2.0)\n",
            "Requirement already satisfied: rlp<3,>=1.0.0 in /Users/victorogbebor/Library/Python/3.9/lib/python/site-packages (from eth-account<0.6.0,>=0.4.0->dydx-v3-python==1.9.1) (2.0.1)\n",
            "Requirement already satisfied: eth-utils<2,>=1.3.0 in /Users/victorogbebor/Library/Python/3.9/lib/python/site-packages (from eth-account<0.6.0,>=0.4.0->dydx-v3-python==1.9.1) (1.10.0)\n",
            "Requirement already satisfied: eth-rlp<2,>=0.1.2 in /Users/victorogbebor/Library/Python/3.9/lib/python/site-packages (from eth-account<0.6.0,>=0.4.0->dydx-v3-python==1.9.1) (0.2.1)\n",
            "Requirement already satisfied: parsimonious<0.9.0,>=0.8.0 in /Users/victorogbebor/Library/Python/3.9/lib/python/site-packages (from eth-abi<3,>=2.0.0b7->eth-account<0.6.0,>=0.4.0->dydx-v3-python==1.9.1) (0.8.1)\n",
            "Requirement already satisfied: eth-typing<3.0.0,>=2.0.0 in /Users/victorogbebor/Library/Python/3.9/lib/python/site-packages (from eth-abi<3,>=2.0.0b7->eth-account<0.6.0,>=0.4.0->dydx-v3-python==1.9.1) (2.3.0)\n",
            "Requirement already satisfied: pycryptodome<4.0.0,>=3.4.7 in /Users/victorogbebor/Library/Python/3.9/lib/python/site-packages (from eth-keyfile<0.6.0,>=0.5.0->eth-account<0.6.0,>=0.4.0->dydx-v3-python==1.9.1) (3.17)\n",
            "Requirement already satisfied: eth-hash<0.4.0,>=0.3.1 in /Users/victorogbebor/Library/Python/3.9/lib/python/site-packages (from eth-utils<2,>=1.3.0->eth-account<0.6.0,>=0.4.0->dydx-v3-python==1.9.1) (0.3.3)\n",
            "Requirement already satisfied: zipp>=0.5 in /Users/victorogbebor/Library/Python/3.9/lib/python/site-packages (from importlib-metadata<1,>=0.12->tox==3.13.2->dydx-v3-python==1.9.1) (3.15.0)\n",
            "Requirement already satisfied: pyparsing!=3.0.5,>=2.0.2 in /Users/victorogbebor/Library/Python/3.9/lib/python/site-packages (from packaging>=14->tox==3.13.2->dydx-v3-python==1.9.1) (3.0.9)\n",
            "Requirement already satisfied: wcwidth in /Users/victorogbebor/Library/Python/3.9/lib/python/site-packages (from pytest<5.0.0,>=4.4.0->dydx-v3-python==1.9.1) (0.2.5)\n",
            "Requirement already satisfied: atomicwrites>=1.0 in /Users/victorogbebor/Library/Python/3.9/lib/python/site-packages (from pytest<5.0.0,>=4.4.0->dydx-v3-python==1.9.1) (1.4.1)\n",
            "Requirement already satisfied: more-itertools>=4.0.0 in /Users/victorogbebor/Library/Python/3.9/lib/python/site-packages (from pytest<5.0.0,>=4.4.0->dydx-v3-python==1.9.1) (9.1.0)\n",
            "Requirement already satisfied: urllib3<3,>=1.21.1 in /Users/victorogbebor/Library/Python/3.9/lib/python/site-packages (from requests<3.0.0,>=2.22.0->dydx-v3-python==1.9.1) (2.0.2)\n",
            "Requirement already satisfied: idna<4,>=2.5 in /Users/victorogbebor/Library/Python/3.9/lib/python/site-packages (from requests<3.0.0,>=2.22.0->dydx-v3-python==1.9.1) (3.4)\n",
            "Requirement already satisfied: certifi>=2017.4.17 in /Users/victorogbebor/Library/Python/3.9/lib/python/site-packages (from requests<3.0.0,>=2.22.0->dydx-v3-python==1.9.1) (2022.12.7)\n",
            "Requirement already satisfied: distlib<1,>=0.3.6 in /Users/victorogbebor/Library/Python/3.9/lib/python/site-packages (from virtualenv>=14.0.0->tox==3.13.2->dydx-v3-python==1.9.1) (0.3.6)\n",
            "Requirement already satisfied: platformdirs<4,>=3.2 in /Users/victorogbebor/Library/Python/3.9/lib/python/site-packages (from virtualenv>=14.0.0->tox==3.13.2->dydx-v3-python==1.9.1) (3.5.0)\n",
            "Requirement already satisfied: websockets<10,>=9.1 in /Users/victorogbebor/Library/Python/3.9/lib/python/site-packages (from web3<6.0.0,>=5.0.0->dydx-v3-python==1.9.1) (9.1)\n",
            "Requirement already satisfied: lru-dict<2.0.0,>=1.1.6 in /Users/victorogbebor/Library/Python/3.9/lib/python/site-packages (from web3<6.0.0,>=5.0.0->dydx-v3-python==1.9.1) (1.1.8)\n",
            "Requirement already satisfied: ipfshttpclient==0.8.0a2 in /Users/victorogbebor/Library/Python/3.9/lib/python/site-packages (from web3<6.0.0,>=5.0.0->dydx-v3-python==1.9.1) (0.8.0a2)\n",
            "Requirement already satisfied: jsonschema<5,>=3.2.0 in /Users/victorogbebor/Library/Python/3.9/lib/python/site-packages (from web3<6.0.0,>=5.0.0->dydx-v3-python==1.9.1) (4.17.3)\n",
            "Requirement already satisfied: protobuf==3.19.5 in /Users/victorogbebor/Library/Python/3.9/lib/python/site-packages (from web3<6.0.0,>=5.0.0->dydx-v3-python==1.9.1) (3.19.5)\n",
            "Requirement already satisfied: multiaddr>=0.0.7 in /Users/victorogbebor/Library/Python/3.9/lib/python/site-packages (from ipfshttpclient==0.8.0a2->web3<6.0.0,>=5.0.0->dydx-v3-python==1.9.1) (0.0.9)\n",
            "Requirement already satisfied: pyrsistent!=0.17.0,!=0.17.1,!=0.17.2,>=0.14.0 in /Users/victorogbebor/Library/Python/3.9/lib/python/site-packages (from jsonschema<5,>=3.2.0->web3<6.0.0,>=5.0.0->dydx-v3-python==1.9.1) (0.19.3)\n",
            "Requirement already satisfied: netaddr in /Users/victorogbebor/Library/Python/3.9/lib/python/site-packages (from multiaddr>=0.0.7->ipfshttpclient==0.8.0a2->web3<6.0.0,>=5.0.0->dydx-v3-python==1.9.1) (0.8.0)\n",
            "Requirement already satisfied: base58 in /Users/victorogbebor/Library/Python/3.9/lib/python/site-packages (from multiaddr>=0.0.7->ipfshttpclient==0.8.0a2->web3<6.0.0,>=5.0.0->dydx-v3-python==1.9.1) (2.1.1)\n",
            "Requirement already satisfied: varint in /Users/victorogbebor/Library/Python/3.9/lib/python/site-packages (from multiaddr>=0.0.7->ipfshttpclient==0.8.0a2->web3<6.0.0,>=5.0.0->dydx-v3-python==1.9.1) (1.0.2)\n",
            "Requirement already satisfied: pytz-deprecation-shim in /Users/victorogbebor/Library/Python/3.9/lib/python/site-packages (from tzlocal->dateparser==1.0.0->dydx-v3-python==1.9.1) (0.1.0.post0)\n",
            "Requirement already satisfied: tzdata in /Users/victorogbebor/Library/Python/3.9/lib/python/site-packages (from pytz-deprecation-shim->tzlocal->dateparser==1.0.0->dydx-v3-python==1.9.1) (2023.3)\n",
            "\u001b[33mWARNING: You are using pip version 21.2.3; however, version 23.1.2 is available.\n",
            "You should consider upgrading via the '/Library/Frameworks/Python.framework/Versions/3.9/bin/python3.9 -m pip install --upgrade pip' command.\u001b[0m\n",
            "Defaulting to user installation because normal site-packages is not writeable\n",
            "Requirement already satisfied: web3 in /Users/victorogbebor/Library/Python/3.9/lib/python/site-packages (5.31.4)\n",
            "Requirement already satisfied: websockets<10,>=9.1 in /Users/victorogbebor/Library/Python/3.9/lib/python/site-packages (from web3) (9.1)\n",
            "Requirement already satisfied: eth-abi<3.0.0,>=2.2.0 in /Users/victorogbebor/Library/Python/3.9/lib/python/site-packages (from web3) (2.2.0)\n",
            "Requirement already satisfied: eth-typing<3.0.0,>=2.0.0 in /Users/victorogbebor/Library/Python/3.9/lib/python/site-packages (from web3) (2.3.0)\n",
            "Requirement already satisfied: requests<3.0.0,>=2.16.0 in /Users/victorogbebor/Library/Python/3.9/lib/python/site-packages (from web3) (2.30.0)\n",
            "Requirement already satisfied: eth-hash[pycryptodome]<1.0.0,>=0.2.0 in /Users/victorogbebor/Library/Python/3.9/lib/python/site-packages (from web3) (0.3.3)\n",
            "Requirement already satisfied: aiohttp<4,>=3.7.4.post0 in /Users/victorogbebor/Library/Python/3.9/lib/python/site-packages (from web3) (3.8.1)\n",
            "Requirement already satisfied: eth-account<0.6.0,>=0.5.9 in /Users/victorogbebor/Library/Python/3.9/lib/python/site-packages (from web3) (0.5.9)\n",
            "Requirement already satisfied: eth-utils<2.0.0,>=1.9.5 in /Users/victorogbebor/Library/Python/3.9/lib/python/site-packages (from web3) (1.10.0)\n",
            "Requirement already satisfied: ipfshttpclient==0.8.0a2 in /Users/victorogbebor/Library/Python/3.9/lib/python/site-packages (from web3) (0.8.0a2)\n",
            "Requirement already satisfied: eth-rlp<0.3 in /Users/victorogbebor/Library/Python/3.9/lib/python/site-packages (from web3) (0.2.1)\n",
            "Requirement already satisfied: protobuf==3.19.5 in /Users/victorogbebor/Library/Python/3.9/lib/python/site-packages (from web3) (3.19.5)\n",
            "Requirement already satisfied: hexbytes<1.0.0,>=0.1.0 in /Users/victorogbebor/Library/Python/3.9/lib/python/site-packages (from web3) (0.3.0)\n",
            "Requirement already satisfied: lru-dict<2.0.0,>=1.1.6 in /Users/victorogbebor/Library/Python/3.9/lib/python/site-packages (from web3) (1.1.8)\n",
            "Requirement already satisfied: jsonschema<5,>=3.2.0 in /Users/victorogbebor/Library/Python/3.9/lib/python/site-packages (from web3) (4.17.3)\n",
            "Requirement already satisfied: multiaddr>=0.0.7 in /Users/victorogbebor/Library/Python/3.9/lib/python/site-packages (from ipfshttpclient==0.8.0a2->web3) (0.0.9)\n",
            "Requirement already satisfied: aiosignal>=1.1.2 in /Users/victorogbebor/Library/Python/3.9/lib/python/site-packages (from aiohttp<4,>=3.7.4.post0->web3) (1.3.1)\n",
            "Requirement already satisfied: yarl<2.0,>=1.0 in /Users/victorogbebor/Library/Python/3.9/lib/python/site-packages (from aiohttp<4,>=3.7.4.post0->web3) (1.9.2)\n",
            "Requirement already satisfied: async-timeout<5.0,>=4.0.0a3 in /Users/victorogbebor/Library/Python/3.9/lib/python/site-packages (from aiohttp<4,>=3.7.4.post0->web3) (4.0.2)\n",
            "Requirement already satisfied: multidict<7.0,>=4.5 in /Users/victorogbebor/Library/Python/3.9/lib/python/site-packages (from aiohttp<4,>=3.7.4.post0->web3) (6.0.4)\n",
            "Requirement already satisfied: charset-normalizer<3.0,>=2.0 in /Users/victorogbebor/Library/Python/3.9/lib/python/site-packages (from aiohttp<4,>=3.7.4.post0->web3) (2.1.1)\n",
            "Requirement already satisfied: attrs>=17.3.0 in /Users/victorogbebor/Library/Python/3.9/lib/python/site-packages (from aiohttp<4,>=3.7.4.post0->web3) (23.1.0)\n",
            "Requirement already satisfied: frozenlist>=1.1.1 in /Users/victorogbebor/Library/Python/3.9/lib/python/site-packages (from aiohttp<4,>=3.7.4.post0->web3) (1.3.3)\n",
            "Requirement already satisfied: parsimonious<0.9.0,>=0.8.0 in /Users/victorogbebor/Library/Python/3.9/lib/python/site-packages (from eth-abi<3.0.0,>=2.2.0->web3) (0.8.1)\n",
            "Requirement already satisfied: rlp<3,>=1.0.0 in /Users/victorogbebor/Library/Python/3.9/lib/python/site-packages (from eth-account<0.6.0,>=0.5.9->web3) (2.0.1)\n",
            "Requirement already satisfied: eth-keyfile<0.6.0,>=0.5.0 in /Users/victorogbebor/Library/Python/3.9/lib/python/site-packages (from eth-account<0.6.0,>=0.5.9->web3) (0.5.1)\n",
            "Requirement already satisfied: bitarray<3,>=1.2.1 in /Users/victorogbebor/Library/Python/3.9/lib/python/site-packages (from eth-account<0.6.0,>=0.5.9->web3) (2.7.3)\n",
            "Requirement already satisfied: eth-keys<0.4.0,>=0.3.4 in /Users/victorogbebor/Library/Python/3.9/lib/python/site-packages (from eth-account<0.6.0,>=0.5.9->web3) (0.3.4)\n",
            "Requirement already satisfied: pycryptodome<4,>=3.6.6 in /Users/victorogbebor/Library/Python/3.9/lib/python/site-packages (from eth-hash[pycryptodome]<1.0.0,>=0.2.0->web3) (3.17)\n",
            "Requirement already satisfied: cytoolz<1.0.0,>=0.9.0 in /Users/victorogbebor/Library/Python/3.9/lib/python/site-packages (from eth-keyfile<0.6.0,>=0.5.0->eth-account<0.6.0,>=0.5.9->web3) (0.11.2)\n",
            "Requirement already satisfied: toolz>=0.8.0 in /Users/victorogbebor/Library/Python/3.9/lib/python/site-packages (from cytoolz<1.0.0,>=0.9.0->eth-keyfile<0.6.0,>=0.5.0->eth-account<0.6.0,>=0.5.9->web3) (0.12.0)\n",
            "Requirement already satisfied: pyrsistent!=0.17.0,!=0.17.1,!=0.17.2,>=0.14.0 in /Users/victorogbebor/Library/Python/3.9/lib/python/site-packages (from jsonschema<5,>=3.2.0->web3) (0.19.3)\n",
            "Requirement already satisfied: six in /Users/victorogbebor/Library/Python/3.9/lib/python/site-packages (from multiaddr>=0.0.7->ipfshttpclient==0.8.0a2->web3) (1.16.0)\n",
            "Requirement already satisfied: varint in /Users/victorogbebor/Library/Python/3.9/lib/python/site-packages (from multiaddr>=0.0.7->ipfshttpclient==0.8.0a2->web3) (1.0.2)\n",
            "Requirement already satisfied: netaddr in /Users/victorogbebor/Library/Python/3.9/lib/python/site-packages (from multiaddr>=0.0.7->ipfshttpclient==0.8.0a2->web3) (0.8.0)\n",
            "Requirement already satisfied: base58 in /Users/victorogbebor/Library/Python/3.9/lib/python/site-packages (from multiaddr>=0.0.7->ipfshttpclient==0.8.0a2->web3) (2.1.1)\n",
            "Requirement already satisfied: certifi>=2017.4.17 in /Users/victorogbebor/Library/Python/3.9/lib/python/site-packages (from requests<3.0.0,>=2.16.0->web3) (2022.12.7)\n",
            "Requirement already satisfied: urllib3<3,>=1.21.1 in /Users/victorogbebor/Library/Python/3.9/lib/python/site-packages (from requests<3.0.0,>=2.16.0->web3) (2.0.2)\n",
            "Requirement already satisfied: idna<4,>=2.5 in /Users/victorogbebor/Library/Python/3.9/lib/python/site-packages (from requests<3.0.0,>=2.16.0->web3) (3.4)\n",
            "\u001b[33mWARNING: You are using pip version 21.2.3; however, version 23.1.2 is available.\n",
            "You should consider upgrading via the '/Library/Frameworks/Python.framework/Versions/3.9/bin/python3.9 -m pip install --upgrade pip' command.\u001b[0m\n"
          ]
        }
      ],
      "source": [
        "!pip3 install dydx-v3-python==1.9.1\n",
        "!pip3 install web3"
      ]
    },
    {
      "cell_type": "code",
      "execution_count": 97,
      "metadata": {
        "colab": {
          "base_uri": "https://localhost:8080/",
          "height": 407
        },
        "id": "vNQacJgB_PCd",
        "outputId": "5655a089-68b9-47b4-f84d-b65809d90e78"
      },
      "outputs": [],
      "source": [
        "from dydx3 import Client\n",
        "from web3 import Web3\n",
        "from pprint import pprint\n",
        "from datetime import datetime, timedelta\n",
        "\n",
        "# Testnet\n",
        "from dydx3.constants import API_HOST_GOERLI\n",
        "# Mainnet\n",
        "from dydx3.constants import API_HOST_MAINNET\n",
        "\n",
        "provider = \"https://eth-goerli.g.alchemy.com/v2/d6_ZXhjTNOhS9YwxsRb80autxqrsCxyI\"\n"
      ]
    },
    {
      "cell_type": "code",
      "execution_count": 98,
      "metadata": {
        "id": "LXTBiuYIIQ0C"
      },
      "outputs": [],
      "source": [
        "# Constants\n",
        "ETH_ADDRESS = \"0x1Dd092B79C0c340A0EBd9B90ec190D540091Ed24\"\n",
        "ETH_PK = \"0x12cad9378906485295cd6e9511accdede95819969d5ec19e3dea0d8eec910e60\"\n",
        "\n",
        "STARK_PK = \"0422bfeac234a3a924aaf05df5dc307ac9dedf140e18544f0b2e29ecdabbd797\"\n",
        "DYDX_API_KEY = \"1cc04d51-c231-fdf9-620a-23e28e3ff7b3\"\n",
        "DYDX_API_SECRET = \"bHBl8cSA_x7wn9I5I920d1ALwJUr4JwxJdlrBglS\"\n",
        "DYDX_API_PASSPHRASE = \"7paQVTFByacomo-z5swh\"\n",
        "\n",
        "# testnet\n",
        "HOST = API_HOST_GOERLI"
      ]
    },
    {
      "cell_type": "code",
      "execution_count": 99,
      "metadata": {
        "id": "FKKdm1ZEIUll"
      },
      "outputs": [],
      "source": [
        "# Connect to DYDX \n",
        "client = Client(\n",
        "    host=HOST,\n",
        "    api_key_credentials= {\n",
        "        \"key\": DYDX_API_KEY,\n",
        "        \"secret\": DYDX_API_SECRET,\n",
        "        \"passphrase\": DYDX_API_PASSPHRASE,\n",
        "    },\n",
        "    stark_private_key=STARK_PK,\n",
        "    eth_private_key=ETH_PK,\n",
        "    default_ethereum_address=ETH_ADDRESS,\n",
        "    web3=Web3(Web3.HTTPProvider(provider))\n",
        ")"
      ]
    },
    {
      "cell_type": "code",
      "execution_count": 100,
      "metadata": {
        "id": "UGWO6tuYKXFJ"
      },
      "outputs": [
        {
          "name": "stdout",
          "output_type": "stream",
          "text": [
            "Connected to DYDX\n",
            "Acct ID: 26f35227-bd91-5c5b-82ff-5c89be92e3cc\n",
            "Balance: 1885.399000\n"
          ]
        }
      ],
      "source": [
        "acct = client.private.get_account()\n",
        "acct_id = acct.data[\"account\"][\"id\"]\n",
        "quote_balance = acct.data[\"account\"][\"quoteBalance\"]\n",
        "\n",
        "print(\"Connected to DYDX\")\n",
        "print(\"Acct ID:\", acct_id)\n",
        "print(\"Balance:\", quote_balance)"
      ]
    },
    {
      "cell_type": "code",
      "execution_count": 101,
      "metadata": {
        "id": "PKZ8MrwRZrvB"
      },
      "outputs": [
        {
          "name": "stdout",
          "output_type": "stream",
          "text": [
            "{'baseTokenVolume': '0.0048',\n",
            " 'close': '28882',\n",
            " 'high': '28882',\n",
            " 'low': '28866',\n",
            " 'market': 'BTC-USD',\n",
            " 'open': '28870',\n",
            " 'resolution': '1HOUR',\n",
            " 'startedAt': '2023-05-07T04:00:00.000Z',\n",
            " 'startingOpenInterest': '302.9296',\n",
            " 'trades': '3',\n",
            " 'updatedAt': '2023-05-07T04:41:02.065Z',\n",
            " 'usdVolume': '138.584'}\n"
          ]
        }
      ],
      "source": [
        "candles = client.public.get_candles(\n",
        "  market=\"BTC-USD\",\n",
        "  resolution='1HOUR',\n",
        "  limit=3\n",
        ")\n",
        "pprint(candles.data['candles'][0])"
      ]
    },
    {
      "cell_type": "code",
      "execution_count": 102,
      "metadata": {},
      "outputs": [],
      "source": [
        "# Get postion ID\n",
        "acct_response = client.private.get_account()\n",
        "position_id = acct_response.data[\"account\"][\"positionId\"]\n",
        "\n",
        "server_time = client.public.get_time()\n",
        "expiration = datetime.fromisoformat(server_time.data[\"iso\"].replace(\"Z\", \"\")) + timedelta(seconds=70)\n",
        "\n",
        "# placed_order_eth = client.private.create_order(\n",
        "#   position_id=position_id, # required for creating the order signature\n",
        "#   market=\"ETH-USD\",\n",
        "#   side=\"BUY\",\n",
        "#   order_type=\"MARKET\",\n",
        "#   post_only=False,\n",
        "#   size='0.01',\n",
        "#   price='100000',\n",
        "#   limit_fee='0.015',\n",
        "#   expiration_epoch_seconds=expiration.timestamp(),\n",
        "#   time_in_force=\"FOK\",\n",
        "#   reduce_only=False\n",
        "# )\n",
        "\n",
        "# placed_order_btc = client.private.create_order(\n",
        "#   position_id=position_id, # required for creating the order signature\n",
        "#   market=\"BTC-USD\",\n",
        "#   side=\"BUY\",\n",
        "#   order_type=\"MARKET\",\n",
        "#   post_only=False,\n",
        "#   size='0.001',\n",
        "#   price='100000',\n",
        "#   limit_fee='0.015',\n",
        "#   expiration_epoch_seconds=expiration.timestamp(),\n",
        "#   time_in_force=\"FOK\",\n",
        "#   reduce_only=False\n",
        "# )\n",
        "\n",
        "\n",
        "sell_order_eth = client.private.create_order(\n",
        "  position_id=position_id, # required for creating the order signature\n",
        "  market=\"ETH-USD\",\n",
        "  side=\"SELL\",\n",
        "  order_type=\"MARKET\",\n",
        "  post_only=False,\n",
        "  size='0.01',\n",
        "  price='100000',\n",
        "  limit_fee='0.015',\n",
        "  expiration_epoch_seconds=expiration.timestamp(),\n",
        "  time_in_force=\"FOK\",\n",
        "  reduce_only=False\n",
        ")\n",
        "\n",
        "sell_order_btc = client.private.create_order(\n",
        "  position_id=position_id, # required for creating the order signature\n",
        "  market=\"BTC-USD\",\n",
        "  side=\"SELL\",\n",
        "  order_type=\"MARKET\",\n",
        "  post_only=False,\n",
        "  size='0.001',\n",
        "  price='100000',\n",
        "  limit_fee='0.015',\n",
        "  expiration_epoch_seconds=expiration.timestamp(),\n",
        "  time_in_force=\"FOK\",\n",
        "  reduce_only=False\n",
        ")\n"
      ]
    },
    {
      "cell_type": "code",
      "execution_count": 103,
      "metadata": {},
      "outputs": [
        {
          "name": "stdout",
          "output_type": "stream",
          "text": [
            "{'order': {'accountId': '26f35227-bd91-5c5b-82ff-5c89be92e3cc',\n",
            "           'cancelReason': None,\n",
            "           'clientId': '9003127358310393',\n",
            "           'createdAt': '2023-05-07T04:45:12.086Z',\n",
            "           'expiresAt': '2023-05-07T09:46:21.598Z',\n",
            "           'id': '4cab1e6687c34bf5bdfa95194809c749904d30809862d6b4a3b8ed7be1b8b61',\n",
            "           'market': 'ETH-USD',\n",
            "           'postOnly': False,\n",
            "           'price': '100000',\n",
            "           'reduceOnly': False,\n",
            "           'reduceOnlySize': None,\n",
            "           'remainingSize': '0.01',\n",
            "           'side': 'SELL',\n",
            "           'size': '0.01',\n",
            "           'status': 'PENDING',\n",
            "           'timeInForce': 'FOK',\n",
            "           'trailingPercent': None,\n",
            "           'triggerPrice': None,\n",
            "           'type': 'MARKET',\n",
            "           'unfillableAt': None}}\n",
            "----------------------------------------\n",
            "{'order': {'accountId': '26f35227-bd91-5c5b-82ff-5c89be92e3cc',\n",
            "           'cancelReason': None,\n",
            "           'clientId': '7406933609191918',\n",
            "           'createdAt': '2023-05-07T04:45:12.412Z',\n",
            "           'expiresAt': '2023-05-07T09:46:21.598Z',\n",
            "           'id': '3bb94f2f3f4594f2722fbad27f80dc0d2a51627ff51b12d83006600ececd85e',\n",
            "           'market': 'BTC-USD',\n",
            "           'postOnly': False,\n",
            "           'price': '100000',\n",
            "           'reduceOnly': False,\n",
            "           'reduceOnlySize': None,\n",
            "           'remainingSize': '0.001',\n",
            "           'side': 'SELL',\n",
            "           'size': '0.001',\n",
            "           'status': 'PENDING',\n",
            "           'timeInForce': 'FOK',\n",
            "           'trailingPercent': None,\n",
            "           'triggerPrice': None,\n",
            "           'type': 'MARKET',\n",
            "           'unfillableAt': None}}\n"
          ]
        }
      ],
      "source": [
        "pprint(sell_order_eth.data)\n",
        "print(\"----------------------------------------\")\n",
        "pprint(sell_order_btc.data)"
      ]
    }
  ],
  "metadata": {
    "colab": {
      "provenance": []
    },
    "kernelspec": {
      "display_name": "Python 3",
      "language": "python",
      "name": "python3"
    },
    "language_info": {
      "codemirror_mode": {
        "name": "ipython",
        "version": 3
      },
      "file_extension": ".py",
      "mimetype": "text/x-python",
      "name": "python",
      "nbconvert_exporter": "python",
      "pygments_lexer": "ipython3",
      "version": "3.9.7"
    },
    "vscode": {
      "interpreter": {
        "hash": "aee8b7b246df8f9039afb4144a1f6fd8d2ca17a180786b69acc140d282b71a49"
      }
    }
  },
  "nbformat": 4,
  "nbformat_minor": 0
}
